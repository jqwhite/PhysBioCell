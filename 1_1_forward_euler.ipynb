{
  "nbformat": 4,
  "nbformat_minor": 0,
  "metadata": {
    "colab": {
      "provenance": [],
      "collapsed_sections": []
    },
    "kernelspec": {
      "name": "python3",
      "display_name": "Python 3"
    },
    "language_info": {
      "name": "python"
    }
  },
  "cells": [
    {
      "cell_type": "markdown",
      "source": [
        "# Numerical Integration of Exponential growth"
      ],
      "metadata": {
        "id": "QKn5pLPSq2F0"
      }
    },
    {
      "cell_type": "markdown",
      "source": [
        "***"
      ],
      "metadata": {
        "id": "dRc032dDq2DW"
      }
    },
    {
      "cell_type": "markdown",
      "source": [
        "# The Forward Euler Method\n",
        "\n",
        "Developing simple ways to solve ordinary differential equations has long been an area of intense research. While deriving the analytical solution may be simple in some cases, it is often useful to solve them numerically, especially if slamming out the analytical solution will give you carpal tunnel.\n",
        "\n",
        "While there are many ways to numerically integrate these equations, in this tutorial we will examine the Forward Euler method. Say we have an ordinary differential equation such as\n",
        "\n",
        "$$\\frac{dN}{dt} = r N(t) \\tag{1}$$\n",
        "\n",
        "as would be the case for exponential growth, where $r$ is some growth-rate constant and  $t$  is time. Rather than solving this analytically (although it is trivial), we can solve it numerically by starting at some given value of $N$, evaluating Equation (1) for a given time step $\\Delta t$, and updating the new value of $N$ at this new time $t+ \\Delta t$. We can phrase this mathematically as\n",
        "\n",
        "$$N(t+ \\Delta t) = N(t) + rN(t) \\Delta t .\\tag{2}$$\n",
        "\n",
        "Say our initial value ($N$ at $t=0$) is  $N=10$  and $r=1$. We can take a time step $\\Delta t=0.1$ and find that the change in value of $N$ is\n",
        "\n",
        "$$\\Delta N = rN\\Delta t = 1. \\tag{3}$$\n",
        "\n",
        "We can then compute the new value of $N$ at time $t+\\Delta t$ as\n",
        "\n",
        "$$N(t+\\Delta t) = N(t) + \\Delta N = 10 + 1 = 11.\\tag{4}$$\n",
        "\n",
        "We can then take another step forward in time and repeat the process for as long as we would like. As the total time we'd like to integrate over becomes large, it becomes obvious why using a computer is a far more attractive approach than scribbling it by hand.\n",
        "\n",
        "A major point to be wary of is the instability of this method. The error in this scales with the square of our step size. We must choose a sufficiently small step in time such that at most only one computable event must occur. For example, if we are integrating exponential growth of bacterial cells, we don't want to take time steps larger than a cell division! This requirement is known as the Courant-Friedrichs-Lewy condition and is important for many different time-marching computer simulations.\n",
        "\n",
        "As is often the case, the best way to learn is to do. Let's give our digits some exercise and numerically integrate this exponential growth differential equation. "
      ],
      "metadata": {
        "id": "MWiR27gzq2Ar"
      }
    },
    {
      "cell_type": "markdown",
      "source": [],
      "metadata": {
        "id": "bxFJWU0Mq15I"
      }
    },
    {
      "cell_type": "code",
      "execution_count": 65,
      "metadata": {
        "id": "BeqGevzfq099"
      },
      "outputs": [],
      "source": [
        "import numpy as np\n",
        "import matplotlib.pyplot as plt\n",
        "\n",
        "%matplotlib inline\n",
        "import seaborn as sns\n",
        "\n",
        "sns.set()"
      ]
    },
    {
      "cell_type": "code",
      "source": [
        "# Init number of cells\n",
        "N_0 = 1"
      ],
      "metadata": {
        "id": "P7CpMmBb1rNj"
      },
      "execution_count": 66,
      "outputs": []
    },
    {
      "cell_type": "code",
      "source": [
        "# Double time\n",
        "t_d = 0.5 # hours"
      ],
      "metadata": {
        "id": "Zz8L2Jx21276"
      },
      "execution_count": 67,
      "outputs": []
    },
    {
      "cell_type": "code",
      "source": [
        "# Growth rate\n",
        "r = np.log(2)/t_d"
      ],
      "metadata": {
        "id": "pTY4PvHU1-de"
      },
      "execution_count": 68,
      "outputs": []
    },
    {
      "cell_type": "code",
      "source": [
        "# Total integration time \n",
        "T_total = 5"
      ],
      "metadata": {
        "id": "ZrV6Ox402EMK"
      },
      "execution_count": 69,
      "outputs": []
    },
    {
      "cell_type": "code",
      "source": [
        "# Time intervals\n",
        "delta_t = .01  # hours"
      ],
      "metadata": {
        "id": "bGwYoaMb2aJu"
      },
      "execution_count": 70,
      "outputs": []
    },
    {
      "cell_type": "code",
      "source": [
        "# number of steps \n",
        "num_steps = int(T_total / delta_t) + 1"
      ],
      "metadata": {
        "id": "y7Hw5XHG2ksB"
      },
      "execution_count": 71,
      "outputs": []
    },
    {
      "cell_type": "code",
      "source": [
        "# Initialize array for cell count\n",
        "N_t = np.zeros(num_steps)\n",
        "N_t[0] = N_0"
      ],
      "metadata": {
        "id": "CglrRLPj2uG_"
      },
      "execution_count": 72,
      "outputs": []
    },
    {
      "cell_type": "code",
      "source": [
        "for t in range(1, num_steps):\n",
        "  # number of new cells\n",
        "  dN = r * delta_t * N_t[t-1]\n",
        "\n",
        "  # Update cell count\n",
        "  N_t[t] = N_t[t-1] + dN\n",
        "  "
      ],
      "metadata": {
        "id": "Ea61t3Ix3E-n"
      },
      "execution_count": 73,
      "outputs": []
    },
    {
      "cell_type": "code",
      "source": [
        "# N_t"
      ],
      "metadata": {
        "id": "hnR1JfD04_i0"
      },
      "execution_count": 78,
      "outputs": []
    },
    {
      "cell_type": "code",
      "source": [
        "# Define xticks\n",
        "times = np.arange(num_steps) * delta_t\n",
        "# times"
      ],
      "metadata": {
        "id": "n-ztyQ6U3TQs"
      },
      "execution_count": 79,
      "outputs": []
    },
    {
      "cell_type": "code",
      "source": [
        "solution = N_0 * np.exp(r*times)"
      ],
      "metadata": {
        "id": "R3sTSNuA2cuH"
      },
      "execution_count": 76,
      "outputs": []
    },
    {
      "cell_type": "code",
      "source": [
        "plt.plot(times, N_t, label=\"Numerical Solution\")\n",
        "plt.plot(times, solution, label=\"Analytical Solution\")\n",
        "\n",
        "plt.legend()\n",
        "plt.xlabel(\"time [h]\")\n",
        "plt.ylabel(\"N\");"
      ],
      "metadata": {
        "colab": {
          "base_uri": "https://localhost:8080/",
          "height": 285
        },
        "id": "fiKFgrHI5n9f",
        "outputId": "a5a285c3-77c4-4e47-c8ec-c31958fb6080"
      },
      "execution_count": 77,
      "outputs": [
        {
          "output_type": "display_data",
          "data": {
            "text/plain": [
              "<Figure size 432x288 with 1 Axes>"
            ],
            "image/png": "[encoded data removed]"
          },
          "metadata": {}
        }
      ]
    },
    {
      "cell_type": "code",
      "source": [],
      "metadata": {
        "id": "rY4604xc6Dtb"
      },
      "execution_count": 77,
      "outputs": []
    }
  ]
}