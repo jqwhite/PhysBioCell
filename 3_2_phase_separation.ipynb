{
  "nbformat": 4,
  "nbformat_minor": 0,
  "metadata": {
    "colab": {
      "provenance": [],
      "collapsed_sections": [],
      "include_colab_link": true
    },
    "kernelspec": {
      "name": "python3",
      "display_name": "Python 3"
    },
    "language_info": {
      "name": "python"
    }
  },
  "cells": [
    {
      "cell_type": "markdown",
      "metadata": {
        "id": "view-in-github",
        "colab_type": "text"
      },
      "source": [
        "<a href=\"https://colab.research.google.com/github/jqwhite/PhysBioCell/blob/main/3_2_phase_separation.ipynb\" target=\"_parent\"><img src=\"https://colab.research.google.com/assets/colab-badge.svg\" alt=\"Open In Colab\"/></a>"
      ]
    },
    {
      "cell_type": "markdown",
      "source": [
        "# Phase separation"
      ],
      "metadata": {
        "id": "tk6elMO4w_6G"
      }
    },
    {
      "cell_type": "markdown",
      "source": [
        "© 2022 Tom Röschinger. This work is licensed under a [Creative Commons Attribution License CC-BY 4.0](https://creativecommons.org/licenses/by/4.0/). All code contained herein is licensed under an [MIT license](https://opensource.org/licenses/MIT) \n",
        "\n",
        "***"
      ],
      "metadata": {
        "id": "0FnozfO3w_3l"
      }
    },
    {
      "cell_type": "code",
      "execution_count": null,
      "metadata": {
        "id": "Fn1h_71dw0N4"
      },
      "outputs": [],
      "source": [
        "import numpy as np\n",
        "import matplotlib.pyplot as plt\n",
        "import seaborn as sns\n",
        "from scipy.signal import find_peaks\n",
        "from scipy.special import factorial\n",
        "%matplotlib inline\n",
        "\n",
        "\n",
        "sns.set()"
      ]
    },
    {
      "cell_type": "markdown",
      "source": [
        "## Entropy"
      ],
      "metadata": {
        "id": "4hFOWb6LD25R"
      }
    }
  ]
}